{
  "nbformat": 4,
  "nbformat_minor": 0,
  "metadata": {
    "colab": {
      "name": "CDL.ipynb",
      "provenance": [],
      "collapsed_sections": [],
      "include_colab_link": true
    },
    "kernelspec": {
      "name": "python3",
      "display_name": "Python 3"
    },
    "language_info": {
      "name": "python"
    }
  },
  "cells": [
    {
      "cell_type": "markdown",
      "metadata": {
        "id": "view-in-github",
        "colab_type": "text"
      },
      "source": [
        "<a href=\"https://colab.research.google.com/github/yass-mn/cla_homework/blob/main/unit1_project.ipynb\" target=\"_parent\"><img src=\"https://colab.research.google.com/assets/colab-badge.svg\" alt=\"Open In Colab\"/></a>"
      ]
    },
    {
      "cell_type": "code",
      "source": [
        "from matplotlib import pyplot\n",
        "import sqlite3 as sq\n",
        "import numpy as np"
      ],
      "metadata": {
        "id": "7g7W0tr-fAs9"
      },
      "execution_count": 2,
      "outputs": []
    },
    {
      "cell_type": "markdown",
      "source": [
        "# ***Data***\n"
      ],
      "metadata": {
        "id": "ifZF8HAbwIE0"
      }
    },
    {
      "cell_type": "code",
      "execution_count": 3,
      "metadata": {
        "id": "3OXlfmjgdku4"
      },
      "outputs": [],
      "source": [
        "connection = sq.connect('longley.db')\n",
        "cursor = connection.cursor()\n",
        "data = cursor.execute('SELECT * FROM longley').fetchall()"
      ]
    },
    {
      "cell_type": "code",
      "source": [
        "data"
      ],
      "metadata": {
        "colab": {
          "base_uri": "https://localhost:8080/"
        },
        "id": "8MRuYMZq52tC",
        "outputId": "bad6f65b-2369-45e7-dbd3-6c2e65b47cba"
      },
      "execution_count": 4,
      "outputs": [
        {
          "output_type": "execute_result",
          "data": {
            "text/plain": [
              "[('83', '234.289', '235.6', '159', '107.608', '1947', '60.323'),\n",
              " ('88.5', '259.426', '232.5', '145.6', '108.632', '1948', '61.122'),\n",
              " ('88.2', '258.054', '368.2', '161.6', '109.773', '1949', '60.171'),\n",
              " ('89.5', '284.599', '335.1', '165', '110.929', '1950', '61.187'),\n",
              " ('96.2', '328.975', '209.9', '309.9', '112.075', '1951', '63.221'),\n",
              " ('98.1', '346.999', '193.2', '359.4', '113.27', '1952', '63.639'),\n",
              " ('99', '365.385', '187', '354.7', '115.094', '1953', '64.989'),\n",
              " ('100', '363.112', '357.8', '335', '116.219', '1954', '63.761'),\n",
              " ('101.2', '397.469', '290.4', '304.8', '117.388', '1955', '66.019'),\n",
              " ('104.6', '419.18', '282.2', '285.7', '118.734', '1956', '67.857'),\n",
              " ('108.4', '442.769', '293.6', '279.8', '120.445', '1957', '68.169'),\n",
              " ('110.8', '444.546', '468.1', '263.7', '121.95', '1958', '66.513'),\n",
              " ('112.6', '482.704', '381.3', '255.2', '123.366', '1959', '68.655'),\n",
              " ('114.2', '502.601', '393.1', '251.4', '125.368', '1960', '69.564'),\n",
              " ('115.7', '518.173', '480.6', '257.2', '127.852', '1961', '69.331'),\n",
              " ('116.9', '554.894', '400.7', '282.7', '130.081', '1962', '70.551')]"
            ]
          },
          "metadata": {},
          "execution_count": 4
        }
      ]
    },
    {
      "cell_type": "code",
      "source": [
        "type(data),type(data[0][0])"
      ],
      "metadata": {
        "colab": {
          "base_uri": "https://localhost:8080/"
        },
        "id": "c4D9ryOggIPb",
        "outputId": "0b219dbe-07ac-4fa7-9c70-b9d14b62fe7e"
      },
      "execution_count": 5,
      "outputs": [
        {
          "output_type": "execute_result",
          "data": {
            "text/plain": [
              "(list, str)"
            ]
          },
          "metadata": {},
          "execution_count": 5
        }
      ]
    },
    {
      "cell_type": "code",
      "source": [
        "data= np.array(data)"
      ],
      "metadata": {
        "id": "wOtjmCrR8YMt"
      },
      "execution_count": 7,
      "outputs": []
    },
    {
      "cell_type": "markdown",
      "source": [
        "# ***Linear Algebraa***"
      ],
      "metadata": {
        "id": "lBAsOZ8o9dBT"
      }
    },
    {
      "cell_type": "code",
      "source": [
        "x, y =  data[:,5],data[:,0]\n",
        "x =np.array([int(l) for l in x])\n",
        "y =np.array([float(l) for l in y])"
      ],
      "metadata": {
        "id": "l91e7jcZzNR0"
      },
      "execution_count": 8,
      "outputs": []
    },
    {
      "cell_type": "code",
      "source": [
        "pyplot.figure(figsize=(16,8))\n",
        "pyplot.scatter(x, y, color='black')\n",
        "pyplot.xlabel(\"years\")"
      ],
      "metadata": {
        "id": "lbMH97CKjL1z",
        "colab": {
          "base_uri": "https://localhost:8080/",
          "height": 474
        },
        "outputId": "6fa73fc7-e833-4415-fc12-69c7054e294a"
      },
      "execution_count": 9,
      "outputs": [
        {
          "output_type": "execute_result",
          "data": {
            "text/plain": [
              "Text(0.5, 0, 'years')"
            ]
          },
          "metadata": {},
          "execution_count": 9
        },
        {
          "output_type": "display_data",
          "data": {
            "image/png": "[encoded data removed]",
            "text/plain": [
              "<Figure size 1152x576 with 1 Axes>"
            ]
          },
          "metadata": {
            "needs_background": "light"
          }
        }
      ]
    },
    {
      "cell_type": "code",
      "source": [
        "def objective(x, a, b):\n",
        "\treturn a * x + b"
      ],
      "metadata": {
        "id": "0K7in8YUInnF"
      },
      "execution_count": 10,
      "outputs": []
    },
    {
      "cell_type": "code",
      "source": [
        "from scipy.optimize import curve_fit\n",
        "popt, _ = curve_fit(objective, x, y)\n",
        "a, b = popt\n",
        "print('y = %.5f * x + %.5f' % (a, b))"
      ],
      "metadata": {
        "colab": {
          "base_uri": "https://localhost:8080/"
        },
        "id": "2bv58rQ2Iu41",
        "outputId": "00702a1a-9f76-43d8-9b27-40ecb6fe4e65"
      },
      "execution_count": 11,
      "outputs": [
        {
          "output_type": "stream",
          "name": "stdout",
          "text": [
            "y = 2.24662 * x + -4289.33284\n"
          ]
        }
      ]
    },
    {
      "cell_type": "code",
      "source": [
        "x_line= np.arange(min(x),max(x)+1,1)\n",
        "y_line = np.array(objective(x_line, a, b))\n",
        "pyplot.scatter(x, y, color='black')\n",
        "pyplot.xlabel(\"years\")\n",
        "pyplot.plot(x_line, y_line, '--', color='red')"
      ],
      "metadata": {
        "colab": {
          "base_uri": "https://localhost:8080/",
          "height": 301
        },
        "id": "sYGhEUkKDALd",
        "outputId": "aaa26e2e-57e8-497c-c145-7deecad9e0e4"
      },
      "execution_count": 13,
      "outputs": [
        {
          "output_type": "execute_result",
          "data": {
            "text/plain": [
              "[<matplotlib.lines.Line2D at 0x7fa11e030310>]"
            ]
          },
          "metadata": {},
          "execution_count": 13
        },
        {
          "output_type": "display_data",
          "data": {
            "image/png": "[encoded data removed]",
            "text/plain": [
              "<Figure size 432x288 with 1 Axes>"
            ]
          },
          "metadata": {
            "needs_background": "light"
          }
        }
      ]
    }
  ]
}